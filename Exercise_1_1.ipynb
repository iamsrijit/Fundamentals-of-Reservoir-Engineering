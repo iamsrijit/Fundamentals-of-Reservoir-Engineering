{
  "nbformat": 4,
  "nbformat_minor": 0,
  "metadata": {
    "colab": {
      "name": "Exercise 1.1",
      "provenance": [],
      "collapsed_sections": [],
      "toc_visible": true,
      "authorship_tag": "ABX9TyO46JfwPLtPuV9hByRQSfje",
      "include_colab_link": true
    },
    "kernelspec": {
      "name": "python3",
      "display_name": "Python 3"
    }
  },
  "cells": [
    {
      "cell_type": "markdown",
      "metadata": {
        "id": "view-in-github",
        "colab_type": "text"
      },
      "source": [
        "<a href=\"https://colab.research.google.com/github/iamsrijit/Fundamentals-of-Reservoir-Engineering/blob/master/Exercise_1_1.ipynb\" target=\"_parent\"><img src=\"https://colab.research.google.com/assets/colab-badge.svg\" alt=\"Open In Colab\"/></a>"
      ]
    },
    {
      "cell_type": "markdown",
      "metadata": {
        "id": "Kxx_9wdagH8f",
        "colab_type": "text"
      },
      "source": [
        "\"\"\" \\\n",
        " 1) **Find density of gas listed in Table 1.1**\\\n",
        " solution:\\\n",
        "Using ρ=nM/V = MP/ZRT (equation 1) \\\n",
        "\n",
        "\"\"\""
      ]
    },
    {
      "cell_type": "code",
      "metadata": {
        "id": "S56w0ohwgzpd",
        "colab_type": "code",
        "colab": {
          "base_uri": "https://localhost:8080/",
          "height": 51
        },
        "outputId": "c5517130-0781-4fb0-eebe-e47ecc4efbf3"
      },
      "source": [
        "\n",
        "m = 19.91           #molecular weight of all the gases listed in table 1\n",
        "\n",
        "      # At Standard Conditions\n",
        "psc = 14.7          #pressure \n",
        "zsc = 1     \n",
        "r = 10.732          #gas constant\n",
        "tsc = 520           #temperature\n",
        "m_air = 28.97       #mol weight of air \n",
        "\n",
        "if (medium == 'air'):\n",
        "    density_g = 1.0\n",
        "else:\n",
        "    density_g = m/m_air\n",
        "\n",
        "print(density_g)\n",
        "\n",
        "density_numerator = m * psc\n",
        "density_dinominator = zsc * r * tsc\n",
        "\n",
        "standard_density = density_numerator / density_dinominator\n",
        "\n",
        "print(\"density of gas listed in table 1=\",standard_density)\n",
        "\n",
        "     "
      ],
      "execution_count": null,
      "outputs": [
        {
          "output_type": "stream",
          "text": [
            "0.6872626855367622\n",
            "density of gas listed in table 1= 0.052445060064795435\n"
          ],
          "name": "stdout"
        }
      ]
    },
    {
      "cell_type": "markdown",
      "metadata": {
        "id": "9J_zb45aSpvH",
        "colab_type": "text"
      },
      "source": [
        "**2)What is the gas pressure gradient in the reservior at 2000 psia and 180°F(Z=0.865)**"
      ]
    },
    {
      "cell_type": "markdown",
      "metadata": {
        "id": "AjExceiMUD9Z",
        "colab_type": "text"
      },
      "source": [
        "Density(ρ) of gas in reservior can be calculated using eq 1. \n",
        "# (ρV)sc=(ρV)res\n",
        "# (ρ)res=(ρ)sc*E\n",
        "For a real gas, gas expansion factor\\\n",
        " E=(volume of n moles of gas at std. condition)/ \n",
        " \\( Vol of n moles of gas at reserviour conditions.) \\\n",
        "#   =35.37 P/ZT   \n",
        "\n"
      ]
    },
    {
      "cell_type": "code",
      "metadata": {
        "id": "Ec8hEmykU5jC",
        "colab_type": "code",
        "colab": {
          "base_uri": "https://localhost:8080/",
          "height": 34
        },
        "outputId": "ca3edfd2-a2da-485c-8607-3824d169a97e"
      },
      "source": [
        "#Given\n",
        "standard_density = 0.05244\n",
        "psc= 2000 \n",
        "z=.865\n",
        "tsc= 640 #(180+460)\n",
        "\n",
        "den_res= (35.37* psc* standard_density )/(z* tsc)\n",
        "print(\"density of gas in reservior=\",den_res ,\"lb/cu.ft\")\n"
      ],
      "execution_count": null,
      "outputs": [
        {
          "output_type": "stream",
          "text": [
            "density of gas in reservior= 6.700877167630058 lb/cu.ft\n"
          ],
          "name": "stdout"
        }
      ]
    },
    {
      "cell_type": "markdown",
      "metadata": {
        "id": "GTuN6m_zXPHr",
        "colab_type": "text"
      },
      "source": [
        "**converting it into pressure gradient(psi/ft)**"
      ]
    },
    {
      "cell_type": "code",
      "metadata": {
        "id": "CaEHrDl7ZNPh",
        "colab_type": "code",
        "colab": {
          "base_uri": "https://localhost:8080/",
          "height": 34
        },
        "outputId": "d3ca12fc-c1a5-4b07-dc00-a7f724b612b8"
      },
      "source": [
        "pressure_gradient= den_res/144\n",
        "print(\"pressure gradient in the reservior at 2000 psia and 180°F=\",pressure_gradient,\"psi/ft\")"
      ],
      "execution_count": null,
      "outputs": [
        {
          "output_type": "stream",
          "text": [
            "pressure gradient in the reservior at 2000 psia and 180°F= 0.046533869219653176 psi/ft\n"
          ],
          "name": "stdout"
        }
      ]
    },
    {
      "cell_type": "code",
      "metadata": {
        "id": "C4V1Gu87mCc3",
        "colab_type": "code",
        "colab": {}
      },
      "source": [
        ""
      ],
      "execution_count": null,
      "outputs": []
    }
  ]
}