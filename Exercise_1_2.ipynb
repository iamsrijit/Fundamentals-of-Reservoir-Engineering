{
  "nbformat": 4,
  "nbformat_minor": 0,
  "metadata": {
    "colab": {
      "name": "Exercise 1.2.ipynb",
      "provenance": [],
      "collapsed_sections": [],
      "authorship_tag": "ABX9TyN+3q2XJwWp+10zb+/vCiVR",
      "include_colab_link": true
    },
    "kernelspec": {
      "name": "python3",
      "display_name": "Python 3"
    }
  },
  "cells": [
    {
      "cell_type": "markdown",
      "metadata": {
        "id": "view-in-github",
        "colab_type": "text"
      },
      "source": [
        "<a href=\"https://colab.research.google.com/github/iamsrijit/Fundamentals-of-Reservoir-Engineering/blob/master/Exercise_1_2.ipynb\" target=\"_parent\"><img src=\"https://colab.research.google.com/assets/colab-badge.svg\" alt=\"Open In Colab\"/></a>"
      ]
    },
    {
      "cell_type": "code",
      "metadata": {
        "id": "Njh34uDD-u4k",
        "colab_type": "code",
        "colab": {}
      },
      "source": [
        "import numpy as np\n",
        "import matplotlib.pyplot as plt\n",
        "import pandas as pd\n",
        "from numpy import log as ln"
      ],
      "execution_count": null,
      "outputs": []
    },
    {
      "cell_type": "markdown",
      "metadata": {
        "id": "gwltmbU_8gD2",
        "colab_type": "text"
      },
      "source": [
        "# **##  1. Calculation of GIIP**"
      ]
    },
    {
      "cell_type": "code",
      "metadata": {
        "id": "m-QYm-4I8qHt",
        "colab_type": "code",
        "colab": {
          "base_uri": "https://localhost:8080/",
          "height": 70
        },
        "outputId": "59762df4-477d-49b3-85b4-35b60349a229"
      },
      "source": [
        "#Given\n",
        "\n",
        "centroid_depth= 9537 # in feet\n",
        "Gwc= 97000           # ft\n",
        "phi= 0.19\n",
        "V=1.776*10**10        #cu.ft\n",
        "Swc= 0.20\n",
        "gamma_g=0.85\n",
        "\n",
        "#water pressure regime .441D+31 psia \n",
        "Pw=4309           # initial gas pressure at centroid depth of reservoir\n",
        "temperature_gradient=1.258/100   #fahrenheit /feet\n",
        "ambient_surface_temp= 80          #fahrenheit  \n",
        "temp_gra= 662      #degree radian\n",
        "Zgwc= 0.888\n",
        "Egwc= 259.3\n",
        "\n",
        "#change in depth (delta D) denoted as\n",
        "D=163               # 9700-9537\n",
        "\n",
        "Psc= 0.0763*0.85\n",
        "#Pressure Gradient \n",
        "Pg=(Psc*Egwc/144)\n",
        "\n",
        "print( \"pressure gradient dp/dD=\",Pg ,\"psi/ft\")\n",
        "\n",
        "\n",
        "#gas pressure at centroid denoted as \n",
        "P= Pw-Pg*D\n",
        "\n",
        "print(\"gas pressure at centroid=\",P,\"psai\")\n",
        "\n",
        "\n",
        "#absolute temperature at Centroid\n",
        "T= 660\n",
        "\n",
        "\n",
        "#GIIP\n",
        "\n",
        "#GIIP= V*phi(1-Swc)*Ei\n",
        "z=(1-Swc)\n",
        "\n",
        "Ei= 35.37/585.42        #(0.887*660)=585.42\n",
        "GIIP=(V*phi*z*P*35.35)/Ei\n",
        "print(\"For centroid pressure and temperature ay 4290 psia and 660r, GIIP =\",GIIP,\"scf\")\n"
      ],
      "execution_count": null,
      "outputs": [
        {
          "output_type": "stream",
          "text": [
            "pressure gradient dp/dD= 0.11678403819444447 psi/ft\n",
            "gas pressure at centroid= 4289.964201774305 psai\n",
            "For centroid pressure and temperature ay 4290 psia and 660r, GIIP = 6775824225384506.0 scf\n"
          ],
          "name": "stdout"
        }
      ]
    },
    {
      "cell_type": "markdown",
      "metadata": {
        "id": "5ZADQih8H_jY",
        "colab_type": "text"
      },
      "source": [
        "## **2. Calculation of Time for which plateau rate can be sustained**\n",
        "\n",
        "**bold text**"
      ]
    },
    {
      "cell_type": "code",
      "metadata": {
        "id": "fmH3nzjfH-kM",
        "colab_type": "code",
        "colab": {
          "base_uri": "https://localhost:8080/",
          "height": 34
        },
        "outputId": "f2db20d9-b1bd-4d52-c9fe-f5d3b8c4b04e"
      },
      "source": [
        "#Cumulative Production when reservior pressure has fallen to 1200 psia.\n",
        "Q_o=365*100*10**6 \n",
        "Q_avg=50 * 10**6\n",
        "p=1200 \n",
        "z=0.832\n",
        "z_i=0.887\n",
        "P_i=4290\n",
        "G_i=699.70*10**9\n",
        "#Using Depletion material Balance Equation\n",
        "\n",
        "G_final=G_i*(1-(p/z)/(P_i/z_i))\n",
        "print(\"Cumulative Production when reservior pressure has fallen to 1200 psia=\",G_final,\"scf\")\n",
        "\n"
      ],
      "execution_count": null,
      "outputs": [
        {
          "output_type": "stream",
          "text": [
            "Cumulative Production when reservior pressure has fallen to 1200 psia= 491041480634.7499 scf\n"
          ],
          "name": "stdout"
        }
      ]
    },
    {
      "cell_type": "code",
      "metadata": {
        "id": "yEHQMTPIEkaa",
        "colab_type": "code",
        "colab": {
          "base_uri": "https://localhost:8080/",
          "height": 34
        },
        "outputId": "eed9e72e-19bc-4dbf-fd54-e00840465a83"
      },
      "source": [
        "#Cumulative Production during two year build up period\n",
        "\n",
        "G_two_years= Q_avg*2*365\n",
        "print(\"Cumulative Production during two year build up period\",G_two_years,\"sfc\")\n",
        "\n"
      ],
      "execution_count": null,
      "outputs": [
        {
          "output_type": "stream",
          "text": [
            "Cumulative Production during two year build up period 36500000000 sfc\n"
          ],
          "name": "stdout"
        }
      ]
    },
    {
      "cell_type": "code",
      "metadata": {
        "id": "Jy_Ry1S3EoIB",
        "colab_type": "code",
        "colab": {
          "base_uri": "https://localhost:8080/",
          "height": 34
        },
        "outputId": "f0e7f17b-eb72-46db-ddf1-d9160292aa8f"
      },
      "source": [
        "#Gas Production at the Plateau rate of 100MMscf/d\n",
        "\n",
        "print(\"G_Production=\" ,G_final-G_two_years,\"scf\")\n",
        "\n"
      ],
      "execution_count": null,
      "outputs": [
        {
          "output_type": "stream",
          "text": [
            "G_Production= 454541480634.7499 scf\n"
          ],
          "name": "stdout"
        }
      ]
    },
    {
      "cell_type": "code",
      "metadata": {
        "id": "_MDwwRmVEqOH",
        "colab_type": "code",
        "colab": {
          "base_uri": "https://localhost:8080/",
          "height": 34
        },
        "outputId": "1b17119b-eeb5-4d73-a8f7-f8264afd8f50"
      },
      "source": [
        "#Time for which this can be continued \n",
        "t_c=(G_final-G_two_years)/Q_o\n",
        "print(\"Time for which this can be continued=\",t_c,\"years\")"
      ],
      "execution_count": null,
      "outputs": [
        {
          "output_type": "stream",
          "text": [
            "Time for which this can be continued= 12.45319125026712 years\n"
          ],
          "name": "stdout"
        }
      ]
    },
    {
      "cell_type": "markdown",
      "metadata": {
        "id": "0e6uknL6Fsnw",
        "colab_type": "text"
      },
      "source": [
        "# **# 3. Time required for the rate to fall to 20MMscf/d**"
      ]
    },
    {
      "cell_type": "code",
      "metadata": {
        "id": "qKnMAnAEF3PH",
        "colab_type": "code",
        "colab": {
          "base_uri": "https://localhost:8080/",
          "height": 34
        },
        "outputId": "1de62ae0-5602-427c-e540-e759c1d10bda"
      },
      "source": [
        "b=.2\n",
        "Q_of=100\n",
        "Qi=20\n",
        "z=ln(Q_of/Qi)  #supposed as z for easy calculation\n",
        "time= 1/b * z\n",
        "print(\"Time required=\",time,\"years\")\n"
      ],
      "execution_count": null,
      "outputs": [
        {
          "output_type": "stream",
          "text": [
            "Time required= 8.047189562170502 years\n"
          ],
          "name": "stdout"
        }
      ]
    },
    {
      "cell_type": "markdown",
      "metadata": {
        "id": "ZxICsqq3Ibyd",
        "colab_type": "text"
      },
      "source": [
        "# **Total time for abandoned recovery**"
      ]
    },
    {
      "cell_type": "code",
      "metadata": {
        "id": "adx1HkUmF1Su",
        "colab_type": "code",
        "colab": {
          "base_uri": "https://localhost:8080/",
          "height": 34
        },
        "outputId": "15367bbd-3390-4a00-f95f-58af48deab1c"
      },
      "source": [
        "total_time= time + t_c +2\n",
        "print(\"Total time for abundant recovery=\",total_time,\"years\")"
      ],
      "execution_count": null,
      "outputs": [
        {
          "output_type": "stream",
          "text": [
            "Total time for abundant recovery= 22.50038081243762 years\n"
          ],
          "name": "stdout"
        }
      ]
    },
    {
      "cell_type": "code",
      "metadata": {
        "id": "dGVpsfzWIPct",
        "colab_type": "code",
        "colab": {}
      },
      "source": [
        ""
      ],
      "execution_count": null,
      "outputs": []
    }
  ]
}